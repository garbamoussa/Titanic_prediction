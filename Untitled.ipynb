{
 "cells": [
  {
   "cell_type": "code",
   "execution_count": 1,
   "metadata": {},
   "outputs": [
    {
     "name": "stdout",
     "output_type": "stream",
     "text": [
      "AUC.png\n",
      "Learning curves for AdaBoostClassifier.png\n",
      "Learning curves for DecisionTreeClassifier.png\n",
      "Learning curves for ExtraTreesClassifier.png\n",
      "Learning curves for GradientBoostingClassifier.png\n",
      "Learning curves for LinearSVC.png\n",
      "Learning curves for LogisticRegression.png\n",
      "Learning curves for LogisticRegressionCV.png\n",
      "Learning curves for MLPClassifier.png\n",
      "Learning curves for NuSVC.png\n",
      "Learning curves for PassiveAggressiveClassifier.png\n",
      "Learning curves for RandomForestClassifier.png\n",
      "Untitled.ipynb\n",
      "\u001b[31mgender_submission.csv\u001b[m\u001b[m*\n",
      "prediction_ExtraTreesClassifier.csv\n",
      "prediction_LinearSVC.csv\n",
      "prediction_LogReg.csv\n",
      "prediction_MLClassifier.csv\n",
      "\u001b[31mtest.csv\u001b[m\u001b[m*\n",
      "\u001b[31mtrain.csv\u001b[m\u001b[m*\n"
     ]
    }
   ],
   "source": [
    "%ls"
   ]
  },
  {
   "cell_type": "code",
   "execution_count": 2,
   "metadata": {},
   "outputs": [
    {
     "name": "stdout",
     "output_type": "stream",
     "text": [
      "/Users/garbamoussa\n"
     ]
    }
   ],
   "source": [
    "%cd"
   ]
  },
  {
   "cell_type": "code",
   "execution_count": 4,
   "metadata": {},
   "outputs": [
    {
     "name": "stdout",
     "output_type": "stream",
     "text": [
      "/Users/garbamoussa/Desktop/Python_ML/titanic\n"
     ]
    }
   ],
   "source": [
    "%cd /Users/garbamoussa/Desktop/Python_ML/titanic"
   ]
  },
  {
   "cell_type": "code",
   "execution_count": null,
   "metadata": {},
   "outputs": [],
   "source": []
  }
 ],
 "metadata": {
  "kernelspec": {
   "display_name": "Python 3",
   "language": "python",
   "name": "python3"
  },
  "language_info": {
   "codemirror_mode": {
    "name": "ipython",
    "version": 3
   },
   "file_extension": ".py",
   "mimetype": "text/x-python",
   "name": "python",
   "nbconvert_exporter": "python",
   "pygments_lexer": "ipython3",
   "version": "3.7.3"
  }
 },
 "nbformat": 4,
 "nbformat_minor": 4
}
